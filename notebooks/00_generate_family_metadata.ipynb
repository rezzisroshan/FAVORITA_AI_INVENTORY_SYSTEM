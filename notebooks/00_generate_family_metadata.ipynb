{
 "cells": [
  {
   "cell_type": "code",
   "execution_count": 1,
   "id": "d015a700",
   "metadata": {},
   "outputs": [
    {
     "name": "stdout",
     "output_type": "stream",
     "text": [
      "Generated family_metadata.csv with 33 families.\n"
     ]
    }
   ],
   "source": [
    "import pandas as pd\n",
    "\n",
    "# Loading train.csv\n",
    "train_df = pd.read_csv(\"../data/raw/train.csv\")\n",
    "\n",
    "# Defining family mapping\n",
    "family_mapping = {\n",
    "    \"AUTOMOTIVE\": (0, 365),\n",
    "    \"BABY CARE\": (0, 180),\n",
    "    \"BEAUTY\": (0, 365),\n",
    "    \"BEVERAGES\": (0, 120),\n",
    "    \"BOOKS\": (0, 365),\n",
    "    \"BREAD/BAKERY\": (1, 3),\n",
    "    \"CELEBRATION\": (0, 180),\n",
    "    \"CLEANING\": (0, 365),\n",
    "    \"DAIRY\": (1, 7),\n",
    "    \"DELI\": (1, 5),\n",
    "    \"EGGS\": (1, 10),\n",
    "    \"FROZEN FOODS\": (1, 30),\n",
    "    \"GROCERY I\": (0, 90),\n",
    "    \"GROCERY II\": (0, 90),\n",
    "    \"HARDWARE\": (0, 365),\n",
    "    \"HOME AND KITCHEN I\": (0, 365),\n",
    "    \"HOME AND KITCHEN II\": (0, 365),\n",
    "    \"HOME APPLIANCES\": (0, 365),\n",
    "    \"HOME CARE\": (0, 180),\n",
    "    \"LADIESWEAR\": (0, 365),\n",
    "    \"LAWN AND GARDEN\": (0, 365),\n",
    "    \"LINGERIE\": (0, 365),\n",
    "    \"LIQUOR,WINE,BEER\": (0, 180),\n",
    "    \"MAGAZINES\": (0, 30),\n",
    "    \"MEATS\": (1, 7),\n",
    "    \"PERSONAL CARE\": (0, 180),\n",
    "    \"PET SUPPLIES\": (0, 180),\n",
    "    \"PLAYERS AND ELECTRONICS\": (0, 365),\n",
    "    \"POULTRY\": (1, 7),\n",
    "    \"PREPARED FOODS\": (1, 3),\n",
    "    \"PRODUCE\": (1, 5),\n",
    "    \"SCHOOL AND OFFICE SUPPLIES\": (0, 365),\n",
    "    \"SEAFOOD\": (1, 5)\n",
    "}\n",
    "\n",
    "# Creating DataFrame\n",
    "families = list(family_mapping.keys())\n",
    "is_perishable = [family_mapping[f][0] for f in families]\n",
    "shelf_life = [family_mapping[f][1] for f in families]\n",
    "\n",
    "family_metadata = pd.DataFrame({\n",
    "    'item_family': families,\n",
    "    'is_perishable': is_perishable,\n",
    "    'shelf_life_days': shelf_life\n",
    "})\n",
    "\n",
    "# Saving to CSV\n",
    "family_metadata.to_csv(\"../data/raw/family_metadata.csv\", index=False)\n",
    "print(\"Generated family_metadata.csv with 33 families.\")\n"
   ]
  }
 ],
 "metadata": {
  "kernelspec": {
   "display_name": "Python 3",
   "language": "python",
   "name": "python3"
  },
  "language_info": {
   "codemirror_mode": {
    "name": "ipython",
    "version": 3
   },
   "file_extension": ".py",
   "mimetype": "text/x-python",
   "name": "python",
   "nbconvert_exporter": "python",
   "pygments_lexer": "ipython3",
   "version": "3.11.2"
  }
 },
 "nbformat": 4,
 "nbformat_minor": 5
}
